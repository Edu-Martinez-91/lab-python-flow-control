{
 "cells": [
  {
   "cell_type": "markdown",
   "id": "d3bfc191-8885-42ee-b0a0-bbab867c6f9f",
   "metadata": {
    "tags": []
   },
   "source": [
    "# Lab | Flow Control"
   ]
  },
  {
   "cell_type": "markdown",
   "id": "3851fcd1-cf98-4653-9c89-e003b7ec9400",
   "metadata": {},
   "source": [
    "## Exercise: Managing Customer Orders Optimized\n",
    "\n",
    "In the last lab, you were starting an online store that sells various products. To ensure smooth operations, you developed a program that manages customer orders and inventory.\n",
    "\n",
    "You did so without using flow control. Let's go a step further and improve this code.\n",
    "\n",
    "Follow the steps below to complete the exercise:\n",
    "\n",
    "1. Look at your code from the lab data structures, and improve repeated code with loops.\n",
    "\n",
    "2. Instead of asking the user to input the name of three products that a customer wants to order, do the following:\n",
    "    \n",
    "    a. Prompt the user to enter the name of a product that a customer wants to order.\n",
    "    \n",
    "    b. Add the product name to the \"customer_orders\" set.\n",
    "    \n",
    "    c. Ask the user if they want to add another product (yes/no).\n",
    "    \n",
    "    d. Continue the loop until the user does not want to add another product.\n",
    "\n",
    "3. Instead of updating the inventory by subtracting 1 from the quantity of each product, only do it for  the products that were ordered (those in \"customer_orders\")."
   ]
  },
  {
   "cell_type": "code",
   "execution_count": 1,
   "id": "f3bee3d7-5163-46e7-b136-54af6455349e",
   "metadata": {},
   "outputs": [],
   "source": [
    "#1\n",
    "products=[\"t-shirt\",\"mug\",\"hat\",\"book\",\"keychain\"]"
   ]
  },
  {
   "cell_type": "code",
   "execution_count": 2,
   "id": "9ad35bc6-19e2-4e10-aa45-a9fedea81755",
   "metadata": {},
   "outputs": [],
   "source": [
    "inventory={}"
   ]
  },
  {
   "cell_type": "code",
   "execution_count": 3,
   "id": "d1b06e2f-addb-4368-a998-93272cbff062",
   "metadata": {},
   "outputs": [
    {
     "name": "stdin",
     "output_type": "stream",
     "text": [
      "Enter the quantity of t-shirt 46\n",
      "Enter the quantity of mug 65\n",
      "Enter the quantity of hat 9\n",
      "Enter the quantity of book 56\n",
      "Enter the quantity of keychain 4\n"
     ]
    }
   ],
   "source": [
    "for i in products:\n",
    "    inventory[i]=int(input(f\"Enter the quantity of {i}\"))"
   ]
  },
  {
   "cell_type": "code",
   "execution_count": 4,
   "id": "608c95ed-18da-4b0f-bf0a-65dc630e3f8d",
   "metadata": {},
   "outputs": [
    {
     "data": {
      "text/plain": [
       "{'t-shirt': 46, 'mug': 65, 'hat': 9, 'book': 56, 'keychain': 4}"
      ]
     },
     "execution_count": 4,
     "metadata": {},
     "output_type": "execute_result"
    }
   ],
   "source": [
    "inventory"
   ]
  },
  {
   "cell_type": "code",
   "execution_count": 5,
   "id": "37699b7d-b534-402c-9719-acc99235d656",
   "metadata": {},
   "outputs": [],
   "source": [
    "customer_orders=set()"
   ]
  },
  {
   "cell_type": "code",
   "execution_count": 6,
   "id": "965ee550-e26d-4217-a0b2-c911ded6954e",
   "metadata": {},
   "outputs": [
    {
     "data": {
      "text/plain": [
       "set"
      ]
     },
     "execution_count": 6,
     "metadata": {},
     "output_type": "execute_result"
    }
   ],
   "source": [
    "type(customer_orders)"
   ]
  },
  {
   "cell_type": "code",
   "execution_count": 7,
   "id": "9ef7aa80-c300-454d-acfe-d299c82cb477",
   "metadata": {},
   "outputs": [
    {
     "name": "stdin",
     "output_type": "stream",
     "text": [
      "Enter the name of a product: t-shirt\n",
      "Do you want to continue?:  yes\n",
      "Enter the name of a product: keychain\n",
      "Do you want to continue?:  yes\n",
      "Enter the name of a product: mug\n",
      "Do you want to continue?:  n\n"
     ]
    }
   ],
   "source": [
    "#2\n",
    "new_p=input(\"Enter the name of a product:\")\n",
    "customer_orders.add(new_p)\n",
    "y_n=input(\"Do you want to continue?: \")\n",
    "\n",
    "while y_n==\"yes\":\n",
    "    new_p=input(\"Enter the name of a product:\")\n",
    "    customer_orders.add(new_p)\n",
    "    \n",
    "    y_n=input(\"Do you want to continue?: \")\n",
    "    pass\n",
    "    "
   ]
  },
  {
   "cell_type": "code",
   "execution_count": 8,
   "id": "e80cdbe9-f5d3-44f9-b24b-5e84e956b447",
   "metadata": {},
   "outputs": [
    {
     "data": {
      "text/plain": [
       "{'keychain', 'mug', 't-shirt'}"
      ]
     },
     "execution_count": 8,
     "metadata": {},
     "output_type": "execute_result"
    }
   ],
   "source": [
    "customer_orders"
   ]
  },
  {
   "cell_type": "code",
   "execution_count": 9,
   "id": "0c29d8c9-2bbd-4d4e-be6f-2d126dfd3612",
   "metadata": {},
   "outputs": [],
   "source": [
    "#3\n",
    "for i in inventory.keys():\n",
    "    if i in customer_orders:\n",
    "        inventory[i]-=1"
   ]
  },
  {
   "cell_type": "code",
   "execution_count": 10,
   "id": "03e80232-250b-4195-a19a-33513126280d",
   "metadata": {},
   "outputs": [
    {
     "data": {
      "text/plain": [
       "{'t-shirt': 45, 'mug': 64, 'hat': 9, 'book': 56, 'keychain': 3}"
      ]
     },
     "execution_count": 10,
     "metadata": {},
     "output_type": "execute_result"
    }
   ],
   "source": [
    "inventory"
   ]
  },
  {
   "cell_type": "code",
   "execution_count": null,
   "id": "e652cb1d-e95b-4cc7-ade9-40cc8c5d8022",
   "metadata": {},
   "outputs": [],
   "source": []
  }
 ],
 "metadata": {
  "kernelspec": {
   "display_name": "Python 3 (ipykernel)",
   "language": "python",
   "name": "python3"
  },
  "language_info": {
   "codemirror_mode": {
    "name": "ipython",
    "version": 3
   },
   "file_extension": ".py",
   "mimetype": "text/x-python",
   "name": "python",
   "nbconvert_exporter": "python",
   "pygments_lexer": "ipython3",
   "version": "3.12.4"
  }
 },
 "nbformat": 4,
 "nbformat_minor": 5
}
